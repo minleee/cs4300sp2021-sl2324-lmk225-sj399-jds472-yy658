{
  "nbformat": 4,
  "nbformat_minor": 0,
  "metadata": {
    "colab": {
      "name": "movies.ipynb",
      "provenance": [],
      "collapsed_sections": []
    },
    "kernelspec": {
      "name": "python3",
      "display_name": "Python 3"
    },
    "language_info": {
      "name": "python"
    }
  },
  "cells": [
    {
      "cell_type": "code",
      "metadata": {
        "id": "KY8fq-H3G_iT"
      },
      "source": [
        "# import \n",
        "import numpy as np\n",
        "import pandas as pd\n",
        "import matplotlib.pyplot as plt\n",
        "import json"
      ],
      "execution_count": 2,
      "outputs": []
    },
    {
      "cell_type": "code",
      "metadata": {
        "id": "IyUukQ_cHILH"
      },
      "source": [
        "# load dataset \n",
        "# dataset is from https://www.kaggle.com/subinium/movie-character-mbti-dataset\n",
        "df = pd.read_csv('mbti.csv')\n",
        "\n",
        "# drop unnecessary columns\n",
        "# df = df.drop(columns=['stat', 'enneagram', 'img_url'])\n",
        "df = df.dropna()\n",
        "df = df.drop_duplicates()"
      ],
      "execution_count": 3,
      "outputs": []
    },
    {
      "cell_type": "code",
      "metadata": {
        "id": "rYiT_7WcH0Bu"
      },
      "source": [
        "# mbti personality types\n",
        "mbti = ['INTJ', 'INTP', 'ENTJ', 'ENTP', 'INFJ', 'INFP', 'ENFJ', 'ENFP', 'ISTJ', 'ISFJ', 'ESTJ', 'ESFJ', 'ISTP', 'ISFP', 'ESTP', 'ESFP']\n",
        "\n",
        "# remove rows that are not an mbti\n",
        "df = df[df['mbti'].isin(mbti)]\n",
        "\n",
        "# remove trailing whitespaces\n",
        "df['mbti'] = df['mbti'].str.strip()\n",
        "df['role'] = df['role'].str.strip()\n",
        "df['movie'] = df['movie'].str.strip()\n",
        "\n",
        "# replace transparent image to make it visible on site\n",
        "df = df.replace('https://www.personality-database.com/images/profile_transparent.png', 'https://upload.wikimedia.org/wikipedia/commons/7/7c/Profile_avatar_placeholder_large.png')"
      ],
      "execution_count": 6,
      "outputs": []
    },
    {
      "cell_type": "code",
      "metadata": {
        "id": "LHYjtXuqJvHM"
      },
      "source": [
        "# create dictionary of all movies with mbti count\n",
        "movie_set = set(df['movie'])\n",
        "\n",
        "movie_dict = {}\n",
        "for index, row in df.iterrows():\n",
        "  if row['movie'] not in movie_dict:\n",
        "    movie_dict[row['movie']] = {}\n",
        "    movie_dict[row['movie']][row['mbti']] = 1\n",
        "  elif row['movie'] in movie_dict:\n",
        "    if row['mbti'] not in movie_dict[row['movie']]:\n",
        "      movie_dict[row['movie']][row['mbti']] = 1\n",
        "    elif row['mbti'] in movie_dict[row['movie']]:\n",
        "      movie_dict[row['movie']][row['mbti']] += 1\n",
        "# movie_dict"
      ],
      "execution_count": 7,
      "outputs": []
    },
    {
      "cell_type": "code",
      "metadata": {
        "id": "G3EXPUIfuTeZ"
      },
      "source": [
        "character_dict = {}\n",
        "for index, row in df.iterrows():\n",
        "  if row['movie'] not in character_dict:\n",
        "    character_dict[row['movie']] = {}\n",
        "    character_dict[row['movie']][row['mbti']] = [(row['role'], row['img_url'])]\n",
        "  elif row['movie'] in character_dict:\n",
        "    if row['mbti'] not in character_dict[row['movie']]:\n",
        "      character_dict[row['movie']][row['mbti']] = [(row['role'], row['img_url'])]\n",
        "    elif row['mbti'] in character_dict[row['movie']]:\n",
        "      character_dict[row['movie']][row['mbti']] += [(row['role'], row['img_url'])]\n",
        "# character_dict"
      ],
      "execution_count": 8,
      "outputs": []
    },
    {
      "cell_type": "code",
      "metadata": {
        "id": "e_r2JVA9vGg7"
      },
      "source": [
        "json.dump( character_dict, open( \"character_dict.json\", 'w' ) )"
      ],
      "execution_count": 9,
      "outputs": []
    },
    {
      "cell_type": "code",
      "metadata": {
        "id": "oRKZvYju5TIf"
      },
      "source": [
        "# character_dict['Aquamarine (2006)']"
      ],
      "execution_count": 10,
      "outputs": []
    },
    {
      "cell_type": "code",
      "metadata": {
        "id": "0nMfKJ16RMEK"
      },
      "source": [
        "# mbti keys\n",
        "mbti_keys = ['INFJ', 'ENTP', 'INTP', 'INTJ', 'ENTJ', 'ENFJ', 'INFP', 'ENFP', 'ISFP', 'ISTP', 'ISFJ', 'ISTJ', 'ESTP', 'ESFP', 'ESTJ', 'ESFJ']\n",
        "\n",
        "# index to movie dictionary\n",
        "# movie_index = list(movie_dict.keys())\n",
        "movie_index = np.array(list(movie_dict.keys()))"
      ],
      "execution_count": 11,
      "outputs": []
    },
    {
      "cell_type": "code",
      "metadata": {
        "id": "iPoEB3peeTJw"
      },
      "source": [
        "txt = np.savetxt('movie_index.txt', movie_index, delimiter='\\n', fmt = '%s')"
      ],
      "execution_count": 12,
      "outputs": []
    },
    {
      "cell_type": "code",
      "metadata": {
        "id": "offj5nB5fIni"
      },
      "source": [
        "x = np.loadtxt('movie_index.txt', delimiter='\\n', dtype=str, comments=None)\n",
        "# x = np.genfromtxt('movie_index.txt', delimiter = '\\n', dtype=str)\n",
        "# for i in x:\n",
        "#   print(i)\n",
        "# x1 = set(x)\n",
        "# mi = set(movie_index)\n",
        "# list(mi-x1)\n",
        "# movie_index.index('#Alive')\n",
        "# len(x)"
      ],
      "execution_count": 13,
      "outputs": []
    },
    {
      "cell_type": "code",
      "metadata": {
        "id": "rVIbsiQbSB57"
      },
      "source": [
        "# movie mbti matrix\n",
        "movie_mbti = np.zeros((len(movie_index), len(mbti_keys)))\n",
        "for idx, movie in enumerate(movie_index):\n",
        "  m_dict = movie_dict[movie]\n",
        "  for mbti in m_dict:\n",
        "    index = mbti_keys.index(mbti)\n",
        "    movie_mbti[idx][index] = m_dict[mbti]\n",
        "# movie_dict"
      ],
      "execution_count": 14,
      "outputs": []
    },
    {
      "cell_type": "code",
      "metadata": {
        "id": "f7ta976gWuJ3"
      },
      "source": [
        "# normalize matrix\n",
        "movie_mbti_norm = np.zeros(len(movie_index))\n",
        "\n",
        "movie_mbti_norm = np.linalg.norm(movie_mbti, axis = 1)\n",
        "movie_mbti_norm\n",
        "\n",
        "updated_movie = movie_mbti/ (movie_mbti_norm[:,None])\n",
        "# updated_movie"
      ],
      "execution_count": 15,
      "outputs": []
    },
    {
      "cell_type": "code",
      "metadata": {
        "id": "OIci69W1coSx"
      },
      "source": [
        "np.savetxt('updated_movie.txt', updated_movie)"
      ],
      "execution_count": 16,
      "outputs": []
    },
    {
      "cell_type": "code",
      "metadata": {
        "id": "-XROOPZ1dVRD"
      },
      "source": [
        "# np.loadtxt('updated_movie.txt')"
      ],
      "execution_count": 18,
      "outputs": []
    },
    {
      "cell_type": "code",
      "metadata": {
        "id": "xCUHPOCxWoOT"
      },
      "source": [
        "# example output of mbti\n",
        "q = [(0.038709241754524996, 'ESTJ'), (0.007330047906707925, 'ENFJ'), (0.00466608015731746, 'ENFP'), (0.004379393029007701, 'ENTP'), (0.0035262257074234644, 'INFP'), (0.002650094243194404, 'INTP'), (0.002475537137355251, 'INFJ'), (0.0020785052887799245, 'INTJ')]\n",
        "\n",
        "\n",
        "query = np.zeros(len(mbti_keys))\n",
        "for (score, mbti) in q:\n",
        "  query[mbti_keys.index(mbti)] = score"
      ],
      "execution_count": 20,
      "outputs": []
    },
    {
      "cell_type": "code",
      "metadata": {
        "id": "tWk9uIvvaWPt"
      },
      "source": [
        "# get ranked indices\n",
        "movie_score = np.dot(updated_movie, query)\n",
        "ranking_index = np.argsort((movie_score * -1))\n",
        "# ranking_index"
      ],
      "execution_count": 22,
      "outputs": []
    },
    {
      "cell_type": "code",
      "metadata": {
        "id": "A7RnZdjxb0kt"
      },
      "source": [
        "# get ranked list of movies\n",
        "ranking_index = ranking_index[:5]\n",
        "movie_list = []\n",
        "for i in ranking_index:\n",
        "  movie_list.append(movie_index[i])\n",
        "# movie_list"
      ],
      "execution_count": 25,
      "outputs": []
    },
    {
      "cell_type": "code",
      "metadata": {
        "colab": {
          "base_uri": "https://localhost:8080/",
          "height": 500
        },
        "id": "PCJgqSD7UXGV",
        "outputId": "56cdfefc-f559-4702-b9d4-efd164cf8685"
      },
      "source": [
        "# plot histogram of movie '10 Things I Hate About You (1999)'\n",
        "m1 = movie_dict['10 Things I Hate About You (1999)']\n",
        "plt.figure(figsize = (10, 8))\n",
        "plt.bar(list(m1.keys()), m1.values())"
      ],
      "execution_count": 26,
      "outputs": [
        {
          "output_type": "execute_result",
          "data": {
            "text/plain": [
              "<BarContainer object of 6 artists>"
            ]
          },
          "metadata": {
            "tags": []
          },
          "execution_count": 26
        },
        {
          "output_type": "display_data",
          "data": {
            "image/png": "[encoded data removed]",
            "text/plain": [
              "<Figure size 720x576 with 1 Axes>"
            ]
          },
          "metadata": {
            "tags": [],
            "needs_background": "light"
          }
        }
      ]
    },
    {
      "cell_type": "code",
      "metadata": {
        "colab": {
          "base_uri": "https://localhost:8080/",
          "height": 500
        },
        "id": "EOBy2cNbIOld",
        "outputId": "aac28156-010b-4890-eb5d-a61540c93c34"
      },
      "source": [
        "# plot histogram of movie 'Star Wars'\n",
        "m1 = movie_dict['Star Wars']\n",
        "plt.figure(figsize = (10, 8))\n",
        "plt.bar(list(m1.keys()), m1.values())"
      ],
      "execution_count": 27,
      "outputs": [
        {
          "output_type": "execute_result",
          "data": {
            "text/plain": [
              "<BarContainer object of 16 artists>"
            ]
          },
          "metadata": {
            "tags": []
          },
          "execution_count": 27
        },
        {
          "output_type": "display_data",
          "data": {
            "image/png": "[encoded data removed]",
            "text/plain": [
              "<Figure size 720x576 with 1 Axes>"
            ]
          },
          "metadata": {
            "tags": [],
            "needs_background": "light"
          }
        }
      ]
    }
  ]
}